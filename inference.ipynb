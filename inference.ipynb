{
 "cells": [
  {
   "cell_type": "code",
   "execution_count": 1,
   "metadata": {},
   "outputs": [
    {
     "name": "stdout",
     "output_type": "stream",
     "text": [
      "Probability of having a disease given a positive test: 0.1667\n"
     ]
    }
   ],
   "source": [
    "## infer the probability of having a disease D given the positive test result T\n",
    "## find - P(D | T )\n",
    "\n",
    "# given probabilities\n",
    "P_D = 0.01 # pior probability of having a disease \n",
    "P_not_D = 1 - P_D  # probability of not having the disease \n",
    "P_T_given_D = 0.99 # Test is positive given disease \n",
    "P_T_given_not_D = 0.05  # Test is positive given no disease\n",
    "\n",
    "# calculate P(T)\n",
    "P_T = P_T_given_D * P_D + P_T_given_not_D * P_not_D\n",
    "\n",
    "# calulate the P(D | T) using Bayes' Theorem\n",
    "P_D_given_T = (P_T_given_D * P_D) / P_T\n",
    "\n",
    "\n",
    "print(f\"Probability of having a disease given a positive test: {P_D_given_T:.4f}\")\n",
    "\n",
    "\n"
   ]
  },
  {
   "cell_type": "code",
   "execution_count": 5,
   "metadata": {},
   "outputs": [
    {
     "name": "stdout",
     "output_type": "stream",
     "text": [
      "Marginal probability P(X): [0.3 0.7]\n"
     ]
    }
   ],
   "source": [
    "## marginal inference\n",
    "import numpy as np\n",
    "\n",
    "# joint probability table P(X, Y)\n",
    "P_XY = np.array(\n",
    "    [[0.1, 0.2],  # P(X=0, Y=0), P(X=0, Y=1)\n",
    "    [0.3, 0.4]]  # P(X=1, Y=0), P(X=1, Y=1)\n",
    ")\n",
    "\n",
    "# Marginalization over Y to get P(X)\n",
    "P_X = P_XY.sum(axis=1)\n",
    "\n",
    "print(\"Marginal probability P(X):\", P_X)"
   ]
  },
  {
   "cell_type": "markdown",
   "metadata": {},
   "source": [
    "We want to compute:\n",
    "\n",
    "The probability of having lung cancer given that a person coughs.\n",
    "The probability of smoking given that a person has lung cancer.\n",
    "\n",
    "Smoking (S)\n",
    "Lung Cancer (L)\n",
    "Coughing (C) \n",
    "\n",
    "P(L | C )"
   ]
  },
  {
   "cell_type": "markdown",
   "metadata": {},
   "source": [
    "Step-by-Step Implementation\n",
    "\n",
    "Define the Joint Probability Distribution (JPD).\n",
    "\n",
    "Compute marginal probabilities by summing over irrelevant variables.\n",
    "\n",
    "Use Bayes' Theorem for conditional probabilities"
   ]
  },
  {
   "cell_type": "markdown",
   "metadata": {},
   "source": [
    "Smoking -> LungCancer\n",
    "\n",
    "LungCancer -> Coughing"
   ]
  },
  {
   "cell_type": "code",
   "execution_count": 11,
   "metadata": {},
   "outputs": [],
   "source": [
    "import numpy as np\n",
    "\n",
    "# Define the Joint Probability Table (JPT)\n",
    "# JPT[P(Smoking, LungCancer, Coughing)]\n",
    "# Rows: Smoking (S), Columns: LungCancer (L), Depth: Coughing (C)\n",
    "joint_prob_table = np.array([\n",
    "    [[0.36, 0.04],  # P(S=0, L=0, C=0), P(S=0, L=0, C=1)\n",
    "     [0.06, 0.04]], # P(S=0, L=1, C=0), P(S=0, L=1, C=1)\n",
    "    [[0.24, 0.06],  # P(S=1, L=0, C=0), P(S=1, L=0, C=1)\n",
    "     [0.04, 0.16]]  # P(S=1, L=1, C=0), P(S=1, L=1, C=1)\n",
    "])"
   ]
  },
  {
   "cell_type": "code",
   "execution_count": 12,
   "metadata": {},
   "outputs": [
    {
     "data": {
      "text/plain": [
       "array([[[0.36, 0.04],\n",
       "        [0.06, 0.04]]])"
      ]
     },
     "execution_count": 12,
     "metadata": {},
     "output_type": "execute_result"
    }
   ],
   "source": [
    "joint_prob_table[:1]"
   ]
  },
  {
   "cell_type": "code",
   "execution_count": 18,
   "metadata": {},
   "outputs": [],
   "source": [
    "# 1. Compute P(L | C=1)\n",
    "p_l_and_c = joint_prob_table.sum(axis=0)\n"
   ]
  },
  {
   "cell_type": "code",
   "execution_count": 19,
   "metadata": {},
   "outputs": [
    {
     "data": {
      "text/plain": [
       "array([[0.6, 0.1],\n",
       "       [0.1, 0.2]])"
      ]
     },
     "execution_count": 19,
     "metadata": {},
     "output_type": "execute_result"
    }
   ],
   "source": [
    "p_l_and_c"
   ]
  },
  {
   "cell_type": "markdown",
   "metadata": {},
   "source": [
    "P(L | C=1) = P(L and C=1) / P(C) "
   ]
  },
  {
   "cell_type": "code",
   "execution_count": 25,
   "metadata": {},
   "outputs": [],
   "source": [
    "# Normalize to compute P(L | C=1)\n",
    "p__c = p_l_and_c[:, 1].sum() # P(C=1)\n",
    "p_l_given_c = (p_l_and_c[:, 1] / p__c)"
   ]
  },
  {
   "cell_type": "code",
   "execution_count": 26,
   "metadata": {},
   "outputs": [
    {
     "name": "stdout",
     "output_type": "stream",
     "text": [
      "Print P(L | C=1) [0.33333333 0.66666667]\n"
     ]
    }
   ],
   "source": [
    "print(\"Print P(L | C=1)\", p_l_given_c)"
   ]
  },
  {
   "cell_type": "markdown",
   "metadata": {},
   "source": [
    "2. Compute P(S | L=1)"
   ]
  },
  {
   "cell_type": "code",
   "execution_count": 27,
   "metadata": {},
   "outputs": [
    {
     "data": {
      "text/plain": [
       "array([[0.4, 0.1],\n",
       "       [0.3, 0.2]])"
      ]
     },
     "execution_count": 27,
     "metadata": {},
     "output_type": "execute_result"
    }
   ],
   "source": [
    "# marginalize over counting C\n",
    "p_s_and_l = joint_prob_table.sum(axis=2)\n",
    "p_s_and_l"
   ]
  },
  {
   "cell_type": "markdown",
   "metadata": {},
   "source": [
    "P(S | L=1) = P(S and L=1) / P(L)"
   ]
  },
  {
   "cell_type": "code",
   "execution_count": 31,
   "metadata": {},
   "outputs": [
    {
     "data": {
      "text/plain": [
       "np.float64(0.30000000000000004)"
      ]
     },
     "execution_count": 31,
     "metadata": {},
     "output_type": "execute_result"
    }
   ],
   "source": [
    "# compute P(L=1)\n",
    "p_l = p_s_and_l[:, 1].sum()\n",
    "p_l"
   ]
  },
  {
   "cell_type": "code",
   "execution_count": 34,
   "metadata": {},
   "outputs": [
    {
     "data": {
      "text/plain": [
       "array([0.33333333, 0.66666667])"
      ]
     },
     "execution_count": 34,
     "metadata": {},
     "output_type": "execute_result"
    }
   ],
   "source": [
    "# normalize to compute P(L | C=1)\n",
    "p_s_given_l = p_s_and_l[:, 1] / p_l\n",
    "p_s_given_l"
   ]
  },
  {
   "cell_type": "markdown",
   "metadata": {},
   "source": [
    "Basiyan Inference Sampling"
   ]
  },
  {
   "cell_type": "markdown",
   "metadata": {},
   "source": [
    "Steps:\n",
    "1. Define the Joint Probability Distribution\n",
    "2. Monte Carlo Sampling: randonmly generate samples for (S,L,C) from P(S,L,S)\n",
    "3. Extract samples where C=1\n",
    "4. Approximate P(S|C=1)"
   ]
  },
  {
   "cell_type": "code",
   "execution_count": 37,
   "metadata": {},
   "outputs": [],
   "source": [
    "import numpy as np\n",
    "\n",
    "# P(S, L, C) -> Shape: (2, 2, 2) [S: Smoking, L: Lung Cancer, C: Coughing]\n",
    "joint_prob_table = np.array([\n",
    "    [[0.36, 0.04],  # P(S=0, L=0, C=0), P(S=0, L=0, C=1)\n",
    "     [0.06, 0.04]], # P(S=0, L=1, C=0), P(S=0, L=1, C=1)\n",
    "    [[0.24, 0.06],  # P(S=1, L=0, C=0), P(S=1, L=0, C=1)\n",
    "     [0.04, 0.16]]  # P(S=1, L=1, C=0), P(S=1, L=1, C=1)\n",
    "])\n"
   ]
  },
  {
   "cell_type": "code",
   "execution_count": 38,
   "metadata": {},
   "outputs": [
    {
     "data": {
      "text/plain": [
       "array([[0, 0, 0],\n",
       "       [0, 0, 1],\n",
       "       [0, 1, 0],\n",
       "       [0, 1, 1],\n",
       "       [1, 0, 0],\n",
       "       [1, 0, 1],\n",
       "       [1, 1, 0],\n",
       "       [1, 1, 1]])"
      ]
     },
     "execution_count": 38,
     "metadata": {},
     "output_type": "execute_result"
    }
   ],
   "source": [
    "# flatten the JPT for sampling\n",
    "flat_probs = joint_prob_table.flatten()\n",
    "flat_states = np.array([\n",
    "    [s, l, c] for s in [0, 1] for l in [0, 1] for c in [0, 1]\n",
    "])\n",
    "flat_states"
   ]
  },
  {
   "cell_type": "code",
   "execution_count": 39,
   "metadata": {},
   "outputs": [],
   "source": [
    "# Monte Carlo Sampling\n",
    "num_samples = 100000\n",
    "samples = np.random.choice(len(flat_probs), size=num_samples, p=flat_probs)"
   ]
  },
  {
   "cell_type": "code",
   "execution_count": 47,
   "metadata": {},
   "outputs": [],
   "source": [
    "sampled_states = flat_states[samples]"
   ]
  },
  {
   "cell_type": "code",
   "execution_count": 50,
   "metadata": {},
   "outputs": [
    {
     "data": {
      "text/plain": [
       "array([[0, 0, 1],\n",
       "       [1, 1, 1],\n",
       "       [1, 0, 1],\n",
       "       ...,\n",
       "       [0, 1, 1],\n",
       "       [1, 0, 1],\n",
       "       [1, 0, 1]])"
      ]
     },
     "execution_count": 50,
     "metadata": {},
     "output_type": "execute_result"
    }
   ],
   "source": [
    "filtered_samples = sampled_states[sampled_states[:, 2] == 1]\n",
    "filtered_samples"
   ]
  },
  {
   "cell_type": "code",
   "execution_count": 51,
   "metadata": {},
   "outputs": [],
   "source": [
    "# Compute P(L | C=1) using the filtered samples\n",
    "num_l0 = np.sum(filtered_samples[:, 1] == 0)  # Count L=0\n",
    "num_l1 = np.sum(filtered_samples[:, 1] == 1)  # Count L=1"
   ]
  },
  {
   "cell_type": "code",
   "execution_count": 52,
   "metadata": {},
   "outputs": [],
   "source": [
    "# Normalize to get probabilities\n",
    "p_l_given_c1 = np.array([num_l0, num_l1]) / len(filtered_samples)"
   ]
  },
  {
   "cell_type": "code",
   "execution_count": 56,
   "metadata": {},
   "outputs": [
    {
     "name": "stdout",
     "output_type": "stream",
     "text": [
      "P(L | C=1) [from sampling]: [0.33898871 0.66101129]\n"
     ]
    }
   ],
   "source": [
    "print(\"P(L | C=1) [from sampling]:\", p_l_given_c1)\n"
   ]
  },
  {
   "cell_type": "code",
   "execution_count": 55,
   "metadata": {},
   "outputs": [
    {
     "name": "stdout",
     "output_type": "stream",
     "text": [
      "P(L | C=1) [analytical]: [0.33333333 0.66666667]\n"
     ]
    }
   ],
   "source": [
    "\n",
    "# Compare with the analytical result\n",
    "p_l_and_c = joint_prob_table.sum(axis=0)  # Marginalize over S\n",
    "p_c = p_l_and_c[:, 1].sum()  # P(C=1)\n",
    "p_l_given_c_analytical = p_l_and_c[:, 1] / p_c\n",
    "print(\"P(L | C=1) [analytical]:\", p_l_given_c_analytical)"
   ]
  },
  {
   "cell_type": "code",
   "execution_count": null,
   "metadata": {},
   "outputs": [],
   "source": []
  }
 ],
 "metadata": {
  "kernelspec": {
   "display_name": "Python 3",
   "language": "python",
   "name": "python3"
  },
  "language_info": {
   "codemirror_mode": {
    "name": "ipython",
    "version": 3
   },
   "file_extension": ".py",
   "mimetype": "text/x-python",
   "name": "python",
   "nbconvert_exporter": "python",
   "pygments_lexer": "ipython3",
   "version": "3.11.8"
  }
 },
 "nbformat": 4,
 "nbformat_minor": 2
}
